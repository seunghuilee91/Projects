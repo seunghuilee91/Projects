{
  "nbformat": 4,
  "nbformat_minor": 0,
  "metadata": {
    "colab": {
      "name": "Dacon_SOUND.20.07.",
      "provenance": [],
      "private_outputs": true,
      "mount_file_id": "1vcMHJaQTeirmvJTcpNDCqyiaAJLoyJI6",
      "authorship_tag": "ABX9TyNFTWY25Vl1F7QOH5a3sb3m",
      "include_colab_link": true
    },
    "kernelspec": {
      "name": "python3",
      "display_name": "Python 3"
    }
  },
  "cells": [
    {
      "cell_type": "markdown",
      "metadata": {
        "id": "view-in-github",
        "colab_type": "text"
      },
      "source": [
        "<a href=\"https://colab.research.google.com/github/seunghuilee91/project_weather/blob/master/Dacon_SOUND_20_07_.ipynb\" target=\"_parent\"><img src=\"https://colab.research.google.com/assets/colab-badge.svg\" alt=\"Open In Colab\"/></a>"
      ]
    },
    {
      "cell_type": "code",
      "metadata": {
        "id": "-cxlQm-E-7J2",
        "colab_type": "code",
        "colab": {}
      },
      "source": [
        "from google.colab import drive\n",
        "drive.mount('/content/gdrive', force_remount=True)\n",
        "import sys\n",
        "sys.path.append(\"/content/gdrive/My Drive/Colab Notebooks\")\n",
        "\n",
        "음성 중첩 데이터 분류 AI 경진대회\n",
        "월간 데이콘 6 | 소리 | 인공지능 AI 활용 목소리 분류 알고리즘 | KL Divergence"
      ],
      "execution_count": null,
      "outputs": []
    },
    {
      "cell_type": "markdown",
      "metadata": {
        "id": "KMgxecbzA8mM",
        "colab_type": "text"
      },
      "source": [
        "# 음성 중첩 데이터 분류 AI 경진대회\n",
        "---\n",
        "월간 데이콘 6 | 소리 | 인공지능 AI 활용 목소리 분류 알고리즘 | KL Divergence\n",
        "### 1. 주제\n",
        "- AI 활용 목소리 분류 알고리즘 개발\n",
        "\n",
        "\n",
        "\n",
        "### 2. 배경\n",
        "- 음성 인식 기술이 나날이 발전해 실생활에 적용되고 있습니다. 하지만 여러 목소리를 구분하는 기술은 개선이 필요합니다. 이를 위해 간단한 데이터셋을 활용하여 음성 중첩 데이터 분류 경진대회를 개최합니다. 여러분의 알고리즘이 출발점이 될 수 있습니다.\n",
        "\n",
        "\n",
        "\n",
        "### 3. 목표\n",
        "- 음성 중첩 데이터 내 4개 단어 예측\n",
        "\n",
        "\n",
        "### 4. 평가식\n",
        "- Kullback–Leibler divergence\n",
        "\n",
        "### 5. 데이터 설명\n",
        "- train.zip (2.77 GB): 훈련 데이터 파일 (10만 개)\n",
        "\n",
        "- test.zip (283 MB): 검증 데이터 파일 (1만 개)\n",
        "\n",
        "- train_answer.csv: 훈련 데이터 파일 정답, 출현 단어 당 0.25 값을 가짐\n",
        "\n",
        "- submission.csv: 제출 파일 양식\n",
        "\n",
        "- 출처: https://ai.googleblog.com/2017/08/launching-speech-commands-dataset.htm"
      ]
    },
    {
      "cell_type": "code",
      "metadata": {
        "id": "XuGpSNX6-_5a",
        "colab_type": "code",
        "colab": {}
      },
      "source": [
        "import os\n",
        "import pandas as pd\n",
        "import numpy as np\n",
        "import seaborn as sns\n",
        "import matplotlib.pyplot as plt\n",
        "\n",
        "from scipy.io import wavfile\n",
        "from glob import glob\n",
        "from tqdm import tqdm\n",
        "\n",
        "%matplotlib inline\n",
        "\n",
        "sns.set_style('darkgrid')"
      ],
      "execution_count": null,
      "outputs": []
    },
    {
      "cell_type": "code",
      "metadata": {
        "id": "uFJztYQG-_9O",
        "colab_type": "code",
        "colab": {}
      },
      "source": [
        "def data_loader(files):\n",
        "    out = []\n",
        "    for file in tqdm(files):\n",
        "        fs, data = wavfile.read(file)\n",
        "        out.append(data)    \n",
        "    out = np.array(out)\n",
        "    return out"
      ],
      "execution_count": null,
      "outputs": []
    },
    {
      "cell_type": "code",
      "metadata": {
        "id": "rklxmKH6_AAU",
        "colab_type": "code",
        "colab": {}
      },
      "source": [
        "%%time\n",
        "\n",
        "# 데이터 불러오기\n",
        "x_data = glob('.My Drive/test/train/*.wav')\n",
        "x_data = data_loader(x_data)"
      ],
      "execution_count": null,
      "outputs": []
    },
    {
      "cell_type": "code",
      "metadata": {
        "id": "H2IG3pGL_ADS",
        "colab_type": "code",
        "colab": {}
      },
      "source": [
        "%%time\n",
        "\n",
        "fs, data = wavfile.read('/content/drive/My Drive/test/train/train_00000.wav')\n",
        "data = np.array(data)"
      ],
      "execution_count": null,
      "outputs": []
    },
    {
      "cell_type": "code",
      "metadata": {
        "id": "YJ3f8Hvw_AGN",
        "colab_type": "code",
        "colab": {}
      },
      "source": [
        "plt.plot(data)"
      ],
      "execution_count": null,
      "outputs": []
    },
    {
      "cell_type": "code",
      "metadata": {
        "id": "4FIwlWY-_AK7",
        "colab_type": "code",
        "colab": {}
      },
      "source": [
        "!sudo pip install numba==0.43.0\n",
        "!sudo pip install llvmlite==0.32.1\n",
        "!sudo pip install librosa"
      ],
      "execution_count": null,
      "outputs": []
    },
    {
      "cell_type": "code",
      "metadata": {
        "id": "bDxz7cL_AhLk",
        "colab_type": "code",
        "colab": {}
      },
      "source": [
        "import librosa.display, librosa"
      ],
      "execution_count": null,
      "outputs": []
    },
    {
      "cell_type": "code",
      "metadata": {
        "id": "lO_BD14GAhin",
        "colab_type": "code",
        "colab": {}
      },
      "source": [
        "sig, sr = librosa.load('/content/drive/My Drive/test/train/train_00000.wav')"
      ],
      "execution_count": null,
      "outputs": []
    },
    {
      "cell_type": "code",
      "metadata": {
        "id": "rV-ddkAlAh5A",
        "colab_type": "code",
        "colab": {}
      },
      "source": [
        "plt.figure()\n",
        "librosa.display.waveplot(sig, sr, alpha=0.5)\n",
        "plt.xlabel(\"Time (s)\")\n",
        "plt.ylabel(\"Amplitude\")\n",
        "plt.title(\"Waveform\")"
      ],
      "execution_count": null,
      "outputs": []
    },
    {
      "cell_type": "code",
      "metadata": {
        "id": "Ni4FIs1VAh3B",
        "colab_type": "code",
        "colab": {}
      },
      "source": [
        ""
      ],
      "execution_count": null,
      "outputs": []
    }
  ]
}